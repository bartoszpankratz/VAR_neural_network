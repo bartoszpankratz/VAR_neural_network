{
  "nbformat": 4,
  "nbformat_minor": 0,
  "metadata": {
    "kernelspec": {
      "display_name": "Python 3",
      "language": "python",
      "name": "python3"
    },
    "language_info": {
      "codemirror_mode": {
        "name": "ipython",
        "version": 3
      },
      "file_extension": ".py",
      "mimetype": "text/x-python",
      "name": "python",
      "nbconvert_exporter": "python",
      "pygments_lexer": "ipython3",
      "version": "3.5.6"
    },
    "colab": {
      "name": "PREOPTIMIZER.ipynb",
      "provenance": [],
      "collapsed_sections": [],
      "include_colab_link": true
    }
  },
  "cells": [
    {
      "cell_type": "markdown",
      "metadata": {
        "id": "view-in-github",
        "colab_type": "text"
      },
      "source": [
        "<a href=\"https://colab.research.google.com/github/bartoszpankratz/VAR_neural_network/blob/master/PREOPTIMIZER.ipynb\" target=\"_parent\"><img src=\"https://colab.research.google.com/assets/colab-badge.svg\" alt=\"Open In Colab\"/></a>"
      ]
    },
    {
      "cell_type": "code",
      "metadata": {
        "id": "wtk_VI14GhvM",
        "colab_type": "code",
        "colab": {}
      },
      "source": [
        "def preOptimizationSearch(model, train_loader, numSim, alpha):\n",
        "    loss = []\n",
        "    data, target = train_loader.dataset.tensors[0], train_loader.dataset.tensors[1]\n",
        "    output = model(data)\n",
        "    weights_0 = model.rnn.all_weights[0][0].data\n",
        "    weights_1 = model.rnn.all_weights[0][1].data\n",
        "    weights_2 = model.rnn.all_weights[0][2].data\n",
        "    weights_3 = model.rnn.all_weights[0][3].data\n",
        "    weights_4 = model.reg.weight.data\n",
        "    loss_best = quantile_regression_dk(alpha, target, output)\n",
        "\n",
        "    start = time.time()\n",
        "    for j in range(numSim):\n",
        "        xShape, yShape = model.rnn.all_weights[0][0].shape\n",
        "        model.rnn.all_weights[0][0].data = torch.tensor(np.random.rand(xShape, yShape)*2 - 1)\n",
        "        model.rnn.all_weights[0][1].data = torch.tensor(np.random.rand(xShape, 6)*2 - 1)\n",
        "        model.rnn.all_weights[0][2].data = torch.tensor(np.random.rand(xShape)*2 - 1)\n",
        "        model.rnn.all_weights[0][3].data = torch.tensor(np.random.rand(xShape)*2 - 1)\n",
        "        xShape, yShape = model.reg.weight.data.shape\n",
        "        model.reg.weight.data = torch.tensor(np.random.rand(xShape, yShape)*2-1)\n",
        "        output = model(data)\n",
        "        loss.append(quantile_regression_dk(alpha, target, output))\n",
        "        if loss[-1] < loss_best:\n",
        "            loss_best = loss[-1]\n",
        "            weights_0 = model.rnn.all_weights[0][0].data\n",
        "            weights_1 = model.rnn.all_weights[0][1].data\n",
        "            weights_2 = model.rnn.all_weights[0][2].data\n",
        "            weights_3 = model.rnn.all_weights[0][3].data\n",
        "            weights_4 = model.reg.weight.data\n",
        "    end = time.time()\n",
        "    model.rnn.all_weights[0][0].data = weights_0\n",
        "    model.rnn.all_weights[0][1].data = weights_1\n",
        "    model.rnn.all_weights[0][2].data = weights_2\n",
        "    model.rnn.all_weights[0][3].data = weights_3\n",
        "    model.reg.weight.data = weights_4\n",
        "    return(model, loss)\n",
        "    #end - start"
      ],
      "execution_count": null,
      "outputs": []
    }
  ]
}