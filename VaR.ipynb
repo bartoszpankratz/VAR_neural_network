{
  "nbformat": 4,
  "nbformat_minor": 0,
  "metadata": {
    "colab": {
      "name": "VaR.ipynb",
      "provenance": [],
      "authorship_tag": "ABX9TyOpvP3QdnSUVo998oJs/vSC",
      "include_colab_link": true
    },
    "kernelspec": {
      "name": "python3",
      "display_name": "Python 3"
    }
  },
  "cells": [
    {
      "cell_type": "markdown",
      "metadata": {
        "id": "view-in-github",
        "colab_type": "text"
      },
      "source": [
        "<a href=\"https://colab.research.google.com/github/bartoszpankratz/VAR_neural_network/blob/master/VaR.ipynb\" target=\"_parent\"><img src=\"https://colab.research.google.com/assets/colab-badge.svg\" alt=\"Open In Colab\"/></a>"
      ]
    },
    {
      "cell_type": "code",
      "metadata": {
        "id": "2aki1wdTOI0N",
        "colab_type": "code",
        "colab": {}
      },
      "source": [
        "import scipy.stats as sps\n",
        "import pandas as pd\n",
        "import numpy as np\n",
        "\n",
        "class VaR:\n",
        "    def __init__(self, data, params):\n",
        "        self.name     = data.name\n",
        "        self.ticker   = data.ticker\n",
        "        self.vars     = pd.DataFrame({\n",
        "            'Date'    : data.data.index,\n",
        "            'Returns' : data.data['Returns']\n",
        "        })\n",
        "        self.vars = self.vars.set_index('Date')\n",
        "        self.params = params\n",
        "        \n",
        "        #if data.name in ['GARCH', 'GARCH_ARCH', 'GARCH_ARCH_T']:\n",
        "        #    for i in range(len(params['ALPHA'])):\n",
        "        #        name = ['TrueVaR_' + str(params['ALPHA'][i])]\n",
        "        #        self.vars[name] = data.data[name]\n",
        "        \n",
        "        #self.backtest = {\n",
        "        #    'Kupiec'         : [],\n",
        "        #    'Bernoulli'      : [],\n",
        "        #    'Christoffersen' : []\n",
        "        #}\n",
        "        \n",
        "    def calc_VCA(self):\n",
        "        params     = self.params\n",
        "        look_back  = params['LOOK_BACK']\n",
        "        INV_NORM   = sps.norm.ppf(params['ALPHA'])\n",
        "        \n",
        "        var_titles = ['VCA_' + str(params['ALPHA'][i]) for i in range(len(params['ALPHA']))]\n",
        "        y     = self.vars['Returns']\n",
        "        y_hat = []\n",
        "        ind   = []\n",
        "        \n",
        "        for i in range(look_back, len(y)):\n",
        "            x = y[i-look_back: i]\n",
        "            y_hat.append(np.mean(x) + np.std(x) * INV_NORM)\n",
        "            ind.append(self.vars.index.values[i])\n",
        "            \n",
        "        res = pd.DataFrame(y_hat, columns  = var_titles).set_index([ind])\n",
        "        for name in var_titles:\n",
        "            self.vars[name] = pd.Series(res[name].values, index=res.index)     \n",
        "            \n",
        "    def calc_Hist(self):\n",
        "        params     = self.params\n",
        "        look_back  = params['LOOK_BACK']\n",
        "        \n",
        "        var_titles = ['HIST_' + str(params['ALPHA'][i]) for i in range(len(params['ALPHA']))]\n",
        "        y     = self.vars['Returns']\n",
        "        y_hat = []\n",
        "        ind   = []\n",
        "        \n",
        "        for i in range(look_back, len(y)):\n",
        "            x = y[i-look_back: i]\n",
        "            y_hat.append(np.percentile(x, q = np.array(params['ALPHA'])*100))\n",
        "            ind.append(self.vars.index.values[i])\n",
        "            \n",
        "        res = pd.DataFrame(y_hat, columns  = var_titles).set_index([ind])\n",
        "        for name in var_titles:\n",
        "            self.vars[name] = pd.Series(res[name].values, index=res.index)"
      ],
      "execution_count": null,
      "outputs": []
    }
  ]
}